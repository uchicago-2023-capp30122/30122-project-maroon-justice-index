{
 "cells": [
  {
   "cell_type": "code",
   "execution_count": null,
   "metadata": {},
   "outputs": [],
   "source": [
    "import json\n",
    "import numpy as np\n",
    "import pandas as pd\n",
    "import geopandas as gpd\n",
    "import plotly.express as px"
   ]
  },
  {
   "cell_type": "code",
   "execution_count": 1,
   "metadata": {},
   "outputs": [
    {
     "ename": "NameError",
     "evalue": "name 'gpd' is not defined",
     "output_type": "error",
     "traceback": [
      "\u001b[0;31m---------------------------------------------------------------------------\u001b[0m",
      "\u001b[0;31mNameError\u001b[0m                                 Traceback (most recent call last)",
      "Cell \u001b[0;32mIn[1], line 1\u001b[0m\n\u001b[0;32m----> 1\u001b[0m census_tracts_df \u001b[39m=\u001b[39m gpd\u001b[39m.\u001b[39mread_file(\u001b[39m\"\u001b[39m\u001b[39mboundaries_census_tracts_2010.geojson\u001b[39m\u001b[39m\"\u001b[39m)\n\u001b[1;32m      2\u001b[0m df \u001b[39m=\u001b[39m pd\u001b[39m.\u001b[39mread_json(\u001b[39m\"\u001b[39m\u001b[39mindex_draft_disposable_income_sex_age.json\u001b[39m\u001b[39m\"\u001b[39m)\n\u001b[1;32m      4\u001b[0m \u001b[39m# figure\u001b[39;00m\n",
      "\u001b[0;31mNameError\u001b[0m: name 'gpd' is not defined"
     ]
    }
   ],
   "source": [
    "census_tracts_df = gpd.read_file(\"boundaries_census_tracts_2010.geojson\")\n",
    "df = pd.read_json(\"index_draft_disposable_income_sex_age.json\")\n",
    "\n",
    "# figure\n",
    "fig_idx = px.choropleth_mapbox(df, geojson = census_tracts_df, locations = \"tract\",\n",
    "                           color=\"pp_index\", color_continuous_scale=\"amp\",\n",
    "                           range_color=(0, 20.7), featureidkey=\"properties.tractce10\",\n",
    "                           mapbox_style=\"carto-positron\", opacity=0.5,\n",
    "                           hover_name=\"NAME\",\n",
    "                           center={\"lat\": 41.8781, \"lon\": -87.6298}, zoom=9)\n",
    "fig_idx.update_geos(fitbounds=\"locations\", visible=False)\n",
    "fig_idx.update_layout(title_text='Period Poverty Index by Census Tract', title_x=0.5,\n",
    "    margin={\"r\":0,\"t\":40,\"l\":0,\"b\":0})\n",
    "fig_idx.update_traces(marker_line_width=1, marker_line_color='white')\n",
    "\n",
    "fig.show()"
   ]
  }
 ],
 "metadata": {
  "kernelspec": {
   "display_name": "Python 3",
   "language": "python",
   "name": "python3"
  },
  "orig_nbformat": 4,
  "vscode": {
   "interpreter": {
    "hash": "916dbcbb3f70747c44a77c7bcd40155683ae19c65e1c03b4aa3499c5328201f1"
   }
  }
 },
 "nbformat": 4,
 "nbformat_minor": 2
}
