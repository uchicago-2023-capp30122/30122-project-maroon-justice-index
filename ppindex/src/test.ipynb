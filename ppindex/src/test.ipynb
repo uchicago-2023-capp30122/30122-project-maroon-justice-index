{
 "cells": [
  {
   "cell_type": "code",
   "execution_count": null,
   "metadata": {},
   "outputs": [],
   "source": [
    "import json\n",
    "import numpy as np\n",
    "import pandas as pd\n",
    "import geopandas as gpd\n",
    "import plotly.express as px"
   ]
  },
  {
   "cell_type": "code",
   "execution_count": null,
   "metadata": {},
   "outputs": [
    {
     "data": {
      "text/plain": [
       "2828"
      ]
     },
     "execution_count": 2,
     "metadata": {},
     "output_type": "execute_result"
    }
   ],
   "source": [
    "census_tracts_df = gpd.read_file(\"boundaries_census_tracts_2010.geojson\")\n",
    "df = pd.read_json(\"index_draft_disposable_income_sex_age.json\")\n",
    "\n",
    "# figure\n",
    "fig_idx = px.choropleth_mapbox(df, geojson = census_tracts_df, locations = \"tract\",\n",
    "                           color=\"pp_index\", color_continuous_scale=\"amp\",\n",
    "                           range_color=(0, 20.7), featureidkey=\"properties.tractce10\",\n",
    "                           mapbox_style=\"carto-positron\", opacity=0.5,\n",
    "                           hover_name=\"NAME\",\n",
    "                           center={\"lat\": 41.8781, \"lon\": -87.6298}, zoom=9)\n",
    "fig_idx.update_geos(fitbounds=\"locations\", visible=False)\n",
    "fig_idx.update_layout(title_text='Period Poverty Index by Census Tract', title_x=0.5,\n",
    "    margin={\"r\":0,\"t\":40,\"l\":0,\"b\":0})\n",
    "fig_idx.update_traces(marker_line_width=1, marker_line_color='white')\n",
    "\n",
    "fig.show()"
   ]
  }
 ],
 "metadata": {
  "kernelspec": {
   "display_name": "Python 3",
   "language": "python",
   "name": "python3"
  },
  "language_info": {
   "codemirror_mode": {
    "name": "ipython",
    "version": 3
   },
   "file_extension": ".py",
   "mimetype": "text/x-python",
   "name": "python",
   "nbconvert_exporter": "python",
   "pygments_lexer": "ipython3",
   "version": "3.8.10"
  },
  "orig_nbformat": 4,
  "vscode": {
   "interpreter": {
    "hash": "916dbcbb3f70747c44a77c7bcd40155683ae19c65e1c03b4aa3499c5328201f1"
   }
  }
 },
 "nbformat": 4,
 "nbformat_minor": 2
}
